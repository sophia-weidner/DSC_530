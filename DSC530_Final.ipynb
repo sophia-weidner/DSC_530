{
 "cells": [
  {
   "cell_type": "code",
   "execution_count": 201,
   "id": "f2dd5471",
   "metadata": {},
   "outputs": [],
   "source": [
    "import numpy as np"
   ]
  },
  {
   "cell_type": "code",
   "execution_count": 208,
   "id": "bf5528f7",
   "metadata": {},
   "outputs": [
    {
     "data": {
      "text/html": [
       "<div>\n",
       "<style scoped>\n",
       "    .dataframe tbody tr th:only-of-type {\n",
       "        vertical-align: middle;\n",
       "    }\n",
       "\n",
       "    .dataframe tbody tr th {\n",
       "        vertical-align: top;\n",
       "    }\n",
       "\n",
       "    .dataframe thead th {\n",
       "        text-align: right;\n",
       "    }\n",
       "</style>\n",
       "<table border=\"1\" class=\"dataframe\">\n",
       "  <thead>\n",
       "    <tr style=\"text-align: right;\">\n",
       "      <th></th>\n",
       "      <th>Categories</th>\n",
       "      <th>Schools_Number</th>\n",
       "      <th>Schools_Percent</th>\n",
       "      <th>Students_Number</th>\n",
       "      <th>Students_Percent</th>\n",
       "      <th>FTETeachers_Number</th>\n",
       "      <th>FTETeachers_Percent</th>\n",
       "    </tr>\n",
       "  </thead>\n",
       "  <tbody>\n",
       "    <tr>\n",
       "      <th>0</th>\n",
       "      <td>Total</td>\n",
       "      <td>30492.04360</td>\n",
       "      <td>100.00000</td>\n",
       "      <td>4652903.970</td>\n",
       "      <td>100.00000</td>\n",
       "      <td>481200.4250</td>\n",
       "      <td>100.00000</td>\n",
       "    </tr>\n",
       "    <tr>\n",
       "      <th>1</th>\n",
       "      <td>Catholic</td>\n",
       "      <td>6449.14387</td>\n",
       "      <td>21.15025</td>\n",
       "      <td>1742967.690</td>\n",
       "      <td>37.45978</td>\n",
       "      <td>139995.9280</td>\n",
       "      <td>29.09306</td>\n",
       "    </tr>\n",
       "    <tr>\n",
       "      <th>2</th>\n",
       "      <td>Parochial</td>\n",
       "      <td>2195.67859</td>\n",
       "      <td>7.20082</td>\n",
       "      <td>493141.868</td>\n",
       "      <td>10.59858</td>\n",
       "      <td>38473.1581</td>\n",
       "      <td>7.99525</td>\n",
       "    </tr>\n",
       "    <tr>\n",
       "      <th>3</th>\n",
       "      <td>Diocesan</td>\n",
       "      <td>3081.07455</td>\n",
       "      <td>10.10452</td>\n",
       "      <td>833230.537</td>\n",
       "      <td>17.90775</td>\n",
       "      <td>65198.4955</td>\n",
       "      <td>13.54914</td>\n",
       "    </tr>\n",
       "    <tr>\n",
       "      <th>4</th>\n",
       "      <td>Private</td>\n",
       "      <td>1172.39074</td>\n",
       "      <td>3.84491</td>\n",
       "      <td>416595.288</td>\n",
       "      <td>8.95345</td>\n",
       "      <td>36324.2745</td>\n",
       "      <td>7.54868</td>\n",
       "    </tr>\n",
       "  </tbody>\n",
       "</table>\n",
       "</div>"
      ],
      "text/plain": [
       "        Categories  Schools_Number  Schools_Percent  Students_Number  \\\n",
       "0            Total     30492.04360        100.00000      4652903.970   \n",
       "1         Catholic      6449.14387         21.15025      1742967.690   \n",
       "2        Parochial      2195.67859          7.20082       493141.868   \n",
       "3         Diocesan      3081.07455         10.10452       833230.537   \n",
       "4          Private      1172.39074          3.84491       416595.288   \n",
       "\n",
       "   Students_Percent  FTETeachers_Number  FTETeachers_Percent  \n",
       "0         100.00000         481200.4250            100.00000  \n",
       "1          37.45978         139995.9280             29.09306  \n",
       "2          10.59858          38473.1581              7.99525  \n",
       "3          17.90775          65198.4955             13.54914  \n",
       "4           8.95345          36324.2745              7.54868  "
      ]
     },
     "execution_count": 208,
     "metadata": {},
     "output_type": "execute_result"
    }
   ],
   "source": [
    "import pandas as pd\n",
    "\n",
    "schools_data = pd.read_excel(r'/Users/sophiaweidner/Downloads/dsc530data.xlsx')\n",
    "\n",
    "schools_data.head()"
   ]
  },
  {
   "cell_type": "code",
   "execution_count": 209,
   "id": "8efe9a2f",
   "metadata": {},
   "outputs": [
    {
     "data": {
      "text/html": [
       "<div>\n",
       "<style scoped>\n",
       "    .dataframe tbody tr th:only-of-type {\n",
       "        vertical-align: middle;\n",
       "    }\n",
       "\n",
       "    .dataframe tbody tr th {\n",
       "        vertical-align: top;\n",
       "    }\n",
       "\n",
       "    .dataframe thead th {\n",
       "        text-align: right;\n",
       "    }\n",
       "</style>\n",
       "<table border=\"1\" class=\"dataframe\">\n",
       "  <thead>\n",
       "    <tr style=\"text-align: right;\">\n",
       "      <th>Categories</th>\n",
       "      <th>Total</th>\n",
       "      <th>Catholic</th>\n",
       "      <th>Parochial</th>\n",
       "      <th>Diocesan</th>\n",
       "      <th>Private</th>\n",
       "      <th>Other religious</th>\n",
       "      <th>Conservative Christian</th>\n",
       "      <th>Other affiliated</th>\n",
       "      <th>Unaffiliated</th>\n",
       "      <th>Nonsectarian</th>\n",
       "      <th>...</th>\n",
       "      <th>d</th>\n",
       "      <th>e</th>\n",
       "      <th>Northeast</th>\n",
       "      <th>Midwest</th>\n",
       "      <th>South</th>\n",
       "      <th>West</th>\n",
       "      <th>City</th>\n",
       "      <th>Suburban</th>\n",
       "      <th>Town</th>\n",
       "      <th>Rural</th>\n",
       "    </tr>\n",
       "  </thead>\n",
       "  <tbody>\n",
       "    <tr>\n",
       "      <th>Schools_Percent</th>\n",
       "      <td>100.0</td>\n",
       "      <td>21.15025</td>\n",
       "      <td>7.20082</td>\n",
       "      <td>10.10452</td>\n",
       "      <td>3.84491</td>\n",
       "      <td>45.23755</td>\n",
       "      <td>12.12779</td>\n",
       "      <td>10.27789</td>\n",
       "      <td>22.83188</td>\n",
       "      <td>33.6122</td>\n",
       "      <td>...</td>\n",
       "      <td>3.48916</td>\n",
       "      <td>2.74985</td>\n",
       "      <td>22.10053</td>\n",
       "      <td>23.14366</td>\n",
       "      <td>34.99546</td>\n",
       "      <td>19.76035</td>\n",
       "      <td>34.25473</td>\n",
       "      <td>38.27269</td>\n",
       "      <td>8.11853</td>\n",
       "      <td>19.35406</td>\n",
       "    </tr>\n",
       "    <tr>\n",
       "      <th>Students_Percent</th>\n",
       "      <td>100.0</td>\n",
       "      <td>37.45978</td>\n",
       "      <td>10.59858</td>\n",
       "      <td>17.90775</td>\n",
       "      <td>8.95345</td>\n",
       "      <td>38.95819</td>\n",
       "      <td>12.70168</td>\n",
       "      <td>12.29891</td>\n",
       "      <td>13.95761</td>\n",
       "      <td>23.58202</td>\n",
       "      <td>...</td>\n",
       "      <td>13.84048</td>\n",
       "      <td>20.08278</td>\n",
       "      <td>21.11079</td>\n",
       "      <td>22.84414</td>\n",
       "      <td>36.44455</td>\n",
       "      <td>19.60052</td>\n",
       "      <td>44.22631</td>\n",
       "      <td>39.09563</td>\n",
       "      <td>5.78256</td>\n",
       "      <td>10.8955</td>\n",
       "    </tr>\n",
       "    <tr>\n",
       "      <th>FTETeachers_Percent</th>\n",
       "      <td>100.0</td>\n",
       "      <td>29.09306</td>\n",
       "      <td>7.99525</td>\n",
       "      <td>13.54914</td>\n",
       "      <td>7.54868</td>\n",
       "      <td>38.65081</td>\n",
       "      <td>11.98667</td>\n",
       "      <td>12.82442</td>\n",
       "      <td>13.83971</td>\n",
       "      <td>32.25613</td>\n",
       "      <td>...</td>\n",
       "      <td>12.60931</td>\n",
       "      <td>16.90871</td>\n",
       "      <td>23.79668</td>\n",
       "      <td>20.22805</td>\n",
       "      <td>37.58159</td>\n",
       "      <td>18.39368</td>\n",
       "      <td>43.78973</td>\n",
       "      <td>39.08804</td>\n",
       "      <td>5.65223</td>\n",
       "      <td>11.47</td>\n",
       "    </tr>\n",
       "  </tbody>\n",
       "</table>\n",
       "<p>3 rows × 36 columns</p>\n",
       "</div>"
      ],
      "text/plain": [
       "Categories           Total  Catholic Parochial  Diocesan  Private  \\\n",
       "Schools_Percent      100.0  21.15025   7.20082  10.10452  3.84491   \n",
       "Students_Percent     100.0  37.45978  10.59858  17.90775  8.95345   \n",
       "FTETeachers_Percent  100.0  29.09306   7.99525  13.54914  7.54868   \n",
       "\n",
       "Categories          Other religious Conservative Christian Other affiliated  \\\n",
       "Schools_Percent            45.23755               12.12779         10.27789   \n",
       "Students_Percent           38.95819               12.70168         12.29891   \n",
       "FTETeachers_Percent        38.65081               11.98667         12.82442   \n",
       "\n",
       "Categories          Unaffiliated Nonsectarian  ...         d         e  \\\n",
       "Schools_Percent         22.83188      33.6122  ...   3.48916   2.74985   \n",
       "Students_Percent        13.95761     23.58202  ...  13.84048  20.08278   \n",
       "FTETeachers_Percent     13.83971     32.25613  ...  12.60931  16.90871   \n",
       "\n",
       "Categories          Northeast   Midwest     South      West      City  \\\n",
       "Schools_Percent      22.10053  23.14366  34.99546  19.76035  34.25473   \n",
       "Students_Percent     21.11079  22.84414  36.44455  19.60052  44.22631   \n",
       "FTETeachers_Percent  23.79668  20.22805  37.58159  18.39368  43.78973   \n",
       "\n",
       "Categories           Suburban     Town     Rural  \n",
       "Schools_Percent      38.27269  8.11853  19.35406  \n",
       "Students_Percent     39.09563  5.78256   10.8955  \n",
       "FTETeachers_Percent  39.08804  5.65223     11.47  \n",
       "\n",
       "[3 rows x 36 columns]"
      ]
     },
     "execution_count": 209,
     "metadata": {},
     "output_type": "execute_result"
    }
   ],
   "source": [
    "schools_data_new = schools_data.transpose()\n",
    "schools_data_new\n",
    "schools_data_new.columns=schools_data_new.iloc[0]\n",
    "\n",
    "schools_data_new = schools_data_new.drop(labels = 'Categories', axis = 0)\n",
    "schools_data_new = schools_data_new.drop(labels = 'Schools_Number', axis = 0)\n",
    "schools_data_new = schools_data_new.drop(labels = 'Students_Number', axis = 0)\n",
    "schools_data_new = schools_data_new.drop(labels = 'FTETeachers_Number', axis = 0)\n",
    "\n",
    "schools_data_new\n",
    "\n",
    "schools_data_new.columns = schools_data_new.columns.str.strip()\n",
    "schools_data_new.columns\n",
    "# schools_data_new = schools_data_new.drop(labels = 'Total', axis = 1)\n",
    "schools_data_new.head()"
   ]
  },
  {
   "cell_type": "code",
   "execution_count": 210,
   "id": "4faa1add",
   "metadata": {},
   "outputs": [
    {
     "data": {
      "image/png": "[encoded data removed]",
      "text/plain": [
       "<Figure size 432x288 with 1 Axes>"
      ]
     },
     "metadata": {
      "needs_background": "light"
     },
     "output_type": "display_data"
    },
    {
     "data": {
      "text/plain": [
       "<Figure size 576x432 with 0 Axes>"
      ]
     },
     "metadata": {},
     "output_type": "display_data"
    }
   ],
   "source": [
    "catholic = schools_data_new.Catholic.hist()\n",
    "parochial = schools_data_new.Parochial.hist()\n",
    "diocesan = schools_data_new.Diocesan.hist()\n",
    "private = schools_data_new.Private.hist()\n",
    "other = schools_data_new.Private.hist()\n",
    "\n",
    "thinkplot.Show(xlabel='Percentages', ylabel='Frequency')"
   ]
  },
  {
   "cell_type": "code",
   "execution_count": 211,
   "id": "2c7b5c35",
   "metadata": {},
   "outputs": [
    {
     "data": {
      "image/png": "[encoded data removed]",
      "text/plain": [
       "<Figure size 432x288 with 1 Axes>"
      ]
     },
     "metadata": {
      "needs_background": "light"
     },
     "output_type": "display_data"
    },
    {
     "data": {
      "text/plain": [
       "<Figure size 576x432 with 0 Axes>"
      ]
     },
     "metadata": {},
     "output_type": "display_data"
    }
   ],
   "source": [
    "elementary = schools_data_new.Elementary_Middle.hist()\n",
    "secondary = schools_data_new.Secondary_High.hist()\n",
    "combined = schools_data_new.Combined_Other.hist()\n",
    "\n",
    "thinkplot.Show(xlabel='Percentages', ylabel='Frequency')"
   ]
  },
  {
   "cell_type": "code",
   "execution_count": 212,
   "id": "69449195",
   "metadata": {},
   "outputs": [
    {
     "data": {
      "image/png": "[encoded data removed]",
      "text/plain": [
       "<Figure size 432x288 with 1 Axes>"
      ]
     },
     "metadata": {
      "needs_background": "light"
     },
     "output_type": "display_data"
    },
    {
     "data": {
      "text/plain": [
       "<Figure size 576x432 with 0 Axes>"
      ]
     },
     "metadata": {},
     "output_type": "display_data"
    }
   ],
   "source": [
    "less = schools_data_new.less.hist() # less than 50 students\n",
    "a = schools_data_new.a.hist() # 50-149 students total\n",
    "b = schools_data_new.b.hist() # 150-299 students\n",
    "c = schools_data_new.c.hist() # 300-499 students\n",
    "d = schools_data_new.d.hist() # 500-749 students\n",
    "more = schools_data_new.e.hist() # mroe than 750 students\n",
    "\n",
    "thinkplot.Show(xlabel='Percentages', ylabel='Frequency')"
   ]
  },
  {
   "cell_type": "code",
   "execution_count": 214,
   "id": "f6f960b8",
   "metadata": {},
   "outputs": [
    {
     "data": {
      "image/png": "[encoded data removed]",
      "text/plain": [
       "<Figure size 432x288 with 1 Axes>"
      ]
     },
     "metadata": {
      "needs_background": "light"
     },
     "output_type": "display_data"
    }
   ],
   "source": [
    "northeast = schools_data_new.Northeast.hist()\n",
    "midwest = schools_data_new.Midwest.hist()\n",
    "south = schools_data_new.South.hist()\n",
    "west = schools_data_new.West.hist()"
   ]
  },
  {
   "cell_type": "code",
   "execution_count": 215,
   "id": "3ccac2dc",
   "metadata": {},
   "outputs": [
    {
     "data": {
      "image/png": "[encoded data removed]",
      "text/plain": [
       "<Figure size 432x288 with 1 Axes>"
      ]
     },
     "metadata": {
      "needs_background": "light"
     },
     "output_type": "display_data"
    }
   ],
   "source": [
    "city = schools_data_new.City.hist()\n",
    "sub = schools_data_new.Suburban.hist()\n",
    "town = schools_data_new.Town.hist()\n",
    "rural = schools_data_new.Rural.hist()"
   ]
  },
  {
   "cell_type": "code",
   "execution_count": 216,
   "id": "5daf0a8a",
   "metadata": {},
   "outputs": [
    {
     "data": {
      "text/html": [
       "<div>\n",
       "<style scoped>\n",
       "    .dataframe tbody tr th:only-of-type {\n",
       "        vertical-align: middle;\n",
       "    }\n",
       "\n",
       "    .dataframe tbody tr th {\n",
       "        vertical-align: top;\n",
       "    }\n",
       "\n",
       "    .dataframe thead th {\n",
       "        text-align: right;\n",
       "    }\n",
       "</style>\n",
       "<table border=\"1\" class=\"dataframe\">\n",
       "  <thead>\n",
       "    <tr style=\"text-align: right;\">\n",
       "      <th>Categories</th>\n",
       "      <th>Catholic</th>\n",
       "      <th>Parochial</th>\n",
       "      <th>Diocesan</th>\n",
       "      <th>Private</th>\n",
       "      <th>Other religious</th>\n",
       "      <th>Conservative Christian</th>\n",
       "      <th>Other affiliated</th>\n",
       "      <th>Unaffiliated</th>\n",
       "      <th>Nonsectarian</th>\n",
       "      <th>Regular</th>\n",
       "      <th>...</th>\n",
       "      <th>d</th>\n",
       "      <th>e</th>\n",
       "      <th>Northeast</th>\n",
       "      <th>Midwest</th>\n",
       "      <th>South</th>\n",
       "      <th>West</th>\n",
       "      <th>City</th>\n",
       "      <th>Suburban</th>\n",
       "      <th>Town</th>\n",
       "      <th>Rural</th>\n",
       "    </tr>\n",
       "  </thead>\n",
       "  <tbody>\n",
       "    <tr>\n",
       "      <th>Schools_Percent</th>\n",
       "      <td>21.15025</td>\n",
       "      <td>7.20082</td>\n",
       "      <td>10.10452</td>\n",
       "      <td>3.84491</td>\n",
       "      <td>45.23755</td>\n",
       "      <td>12.12779</td>\n",
       "      <td>10.27789</td>\n",
       "      <td>22.83188</td>\n",
       "      <td>33.6122</td>\n",
       "      <td>16.34787</td>\n",
       "      <td>...</td>\n",
       "      <td>3.48916</td>\n",
       "      <td>2.74985</td>\n",
       "      <td>22.10053</td>\n",
       "      <td>23.14366</td>\n",
       "      <td>34.99546</td>\n",
       "      <td>19.76035</td>\n",
       "      <td>34.25473</td>\n",
       "      <td>38.27269</td>\n",
       "      <td>8.11853</td>\n",
       "      <td>19.35406</td>\n",
       "    </tr>\n",
       "    <tr>\n",
       "      <th>Students_Percent</th>\n",
       "      <td>37.45978</td>\n",
       "      <td>10.59858</td>\n",
       "      <td>17.90775</td>\n",
       "      <td>8.95345</td>\n",
       "      <td>38.95819</td>\n",
       "      <td>12.70168</td>\n",
       "      <td>12.29891</td>\n",
       "      <td>13.95761</td>\n",
       "      <td>23.58202</td>\n",
       "      <td>16.12598</td>\n",
       "      <td>...</td>\n",
       "      <td>13.84048</td>\n",
       "      <td>20.08278</td>\n",
       "      <td>21.11079</td>\n",
       "      <td>22.84414</td>\n",
       "      <td>36.44455</td>\n",
       "      <td>19.60052</td>\n",
       "      <td>44.22631</td>\n",
       "      <td>39.09563</td>\n",
       "      <td>5.78256</td>\n",
       "      <td>10.8955</td>\n",
       "    </tr>\n",
       "    <tr>\n",
       "      <th>FTETeachers_Percent</th>\n",
       "      <td>29.09306</td>\n",
       "      <td>7.99525</td>\n",
       "      <td>13.54914</td>\n",
       "      <td>7.54868</td>\n",
       "      <td>38.65081</td>\n",
       "      <td>11.98667</td>\n",
       "      <td>12.82442</td>\n",
       "      <td>13.83971</td>\n",
       "      <td>32.25613</td>\n",
       "      <td>20.5298</td>\n",
       "      <td>...</td>\n",
       "      <td>12.60931</td>\n",
       "      <td>16.90871</td>\n",
       "      <td>23.79668</td>\n",
       "      <td>20.22805</td>\n",
       "      <td>37.58159</td>\n",
       "      <td>18.39368</td>\n",
       "      <td>43.78973</td>\n",
       "      <td>39.08804</td>\n",
       "      <td>5.65223</td>\n",
       "      <td>11.47</td>\n",
       "    </tr>\n",
       "  </tbody>\n",
       "</table>\n",
       "<p>3 rows × 35 columns</p>\n",
       "</div>"
      ],
      "text/plain": [
       "Categories           Catholic Parochial  Diocesan  Private Other religious  \\\n",
       "Schools_Percent      21.15025   7.20082  10.10452  3.84491        45.23755   \n",
       "Students_Percent     37.45978  10.59858  17.90775  8.95345        38.95819   \n",
       "FTETeachers_Percent  29.09306   7.99525  13.54914  7.54868        38.65081   \n",
       "\n",
       "Categories          Conservative Christian Other affiliated Unaffiliated  \\\n",
       "Schools_Percent                   12.12779         10.27789     22.83188   \n",
       "Students_Percent                  12.70168         12.29891     13.95761   \n",
       "FTETeachers_Percent               11.98667         12.82442     13.83971   \n",
       "\n",
       "Categories          Nonsectarian   Regular  ...         d         e Northeast  \\\n",
       "Schools_Percent          33.6122  16.34787  ...   3.48916   2.74985  22.10053   \n",
       "Students_Percent        23.58202  16.12598  ...  13.84048  20.08278  21.11079   \n",
       "FTETeachers_Percent     32.25613   20.5298  ...  12.60931  16.90871  23.79668   \n",
       "\n",
       "Categories            Midwest     South      West      City  Suburban  \\\n",
       "Schools_Percent      23.14366  34.99546  19.76035  34.25473  38.27269   \n",
       "Students_Percent     22.84414  36.44455  19.60052  44.22631  39.09563   \n",
       "FTETeachers_Percent  20.22805  37.58159  18.39368  43.78973  39.08804   \n",
       "\n",
       "Categories              Town     Rural  \n",
       "Schools_Percent      8.11853  19.35406  \n",
       "Students_Percent     5.78256   10.8955  \n",
       "FTETeachers_Percent  5.65223     11.47  \n",
       "\n",
       "[3 rows x 35 columns]"
      ]
     },
     "execution_count": 216,
     "metadata": {},
     "output_type": "execute_result"
    }
   ],
   "source": [
    "# Removing 'Total' column\n",
    "schools_data_new = schools_data_new.drop(labels = 'Total', axis = 1)\n",
    "schools_data_new.head()"
   ]
  },
  {
   "cell_type": "code",
   "execution_count": 226,
   "id": "2ba000f5",
   "metadata": {
    "scrolled": false
   },
   "outputs": [
    {
     "name": "stdout",
     "output_type": "stream",
     "text": [
      "Mean: \n",
      " Categories\n",
      "Catholic                        29.234363\n",
      "Parochial                        8.598217\n",
      "Diocesan                        13.853803\n",
      "Private                          6.782347\n",
      "Other religious                 40.948850\n",
      "Conservative Christian          12.272047\n",
      "Other affiliated                11.800407\n",
      "Unaffiliated                    16.876400\n",
      "Nonsectarian                    29.816783\n",
      "Regular                         17.667883\n",
      "Special emphasis                 7.702323\n",
      "Special education                4.446580\n",
      "Elementary_Middle               48.744640\n",
      "Secondary_High                  16.293483\n",
      "Combined_Other                  34.961877\n",
      "Regular elementary/secondary    80.712067\n",
      "Montessori                       4.741330\n",
      "Special program emphasis         3.298800\n",
      "Special education                4.951580\n",
      "Alternative                      1.994643\n",
      "Early childhood                  4.265910\n",
      "less                            19.102697\n",
      "a                               21.021737\n",
      "b                               21.221050\n",
      "c                               15.427753\n",
      "d                                9.979650\n",
      "e                               13.247113\n",
      "Northeast                       22.336000\n",
      "Midwest                         22.071950\n",
      "South                           36.340533\n",
      "West                            19.251517\n",
      "City                            40.756923\n",
      "Suburban                        38.818787\n",
      "Town                             6.517773\n",
      "Rural                           13.906520\n",
      "dtype: float64\n",
      "Mode: \n",
      " Categories  Catholic Parochial  Diocesan  Private Other religious  \\\n",
      "0           21.15025   7.20082  10.10452  3.84491        38.65081   \n",
      "1           29.09306   7.99525  13.54914  7.54868        38.95819   \n",
      "2           37.45978  10.59858  17.90775  8.95345        45.23755   \n",
      "\n",
      "Categories Conservative Christian Other affiliated Unaffiliated Nonsectarian  \\\n",
      "0                        11.98667         10.27789     13.83971     23.58202   \n",
      "1                        12.12779         12.29891     13.95761     32.25613   \n",
      "2                        12.70168         12.82442     22.83188      33.6122   \n",
      "\n",
      "Categories   Regular  ...         d         e Northeast   Midwest     South  \\\n",
      "0           16.12598  ...   3.48916   2.74985  21.11079  20.22805  34.99546   \n",
      "1           16.34787  ...  12.60931  16.90871  22.10053  22.84414  36.44455   \n",
      "2            20.5298  ...  13.84048  20.08278  23.79668  23.14366  37.58159   \n",
      "\n",
      "Categories      West      City  Suburban     Town     Rural  \n",
      "0           18.39368  34.25473  38.27269  5.65223   10.8955  \n",
      "1           19.60052  43.78973  39.08804  5.78256     11.47  \n",
      "2           19.76035  44.22631  39.09563  8.11853  19.35406  \n",
      "\n",
      "[3 rows x 35 columns]\n",
      "Spread: \n",
      " Categories\n",
      "Catholic                         8.155683\n",
      "Parochial                        1.777321\n",
      "Diocesan                         3.910526\n",
      "Private                          2.639080\n",
      "Other religious                  3.717302\n",
      "Conservative Christian           0.378705\n",
      "Other affiliated                 1.344464\n",
      "Unaffiliated                     5.157934\n",
      "Nonsectarian                     5.441869\n",
      "Regular                          2.480974\n",
      "Special emphasis                 3.332963\n",
      "Special education                1.696790\n",
      "Elementary_Middle               11.472656\n",
      "Secondary_High                   4.263521\n",
      "Combined_Other                   7.348364\n",
      "Regular elementary/secondary    10.349375\n",
      "Montessori                       3.276062\n",
      "Special program emphasis         0.300888\n",
      "Special education                1.921060\n",
      "Alternative                      0.666186\n",
      "Early childhood                  4.932786\n",
      "less                            19.461577\n",
      "a                                5.442314\n",
      "b                                3.461187\n",
      "c                                6.465074\n",
      "d                                5.654537\n",
      "e                                9.228385\n",
      "Northeast                        1.358339\n",
      "Midwest                          1.603871\n",
      "South                            1.296199\n",
      "West                             0.747194\n",
      "City                             5.635294\n",
      "Suburban                         0.472949\n",
      "Town                             1.387827\n",
      "Rural                            4.726445\n",
      "dtype: float64\n",
      "Tails: \n",
      " Categories           Catholic Parochial  Diocesan  Private Other religious  \\\n",
      "Schools_Percent      21.15025   7.20082  10.10452  3.84491        45.23755   \n",
      "Students_Percent     37.45978  10.59858  17.90775  8.95345        38.95819   \n",
      "FTETeachers_Percent  29.09306   7.99525  13.54914  7.54868        38.65081   \n",
      "\n",
      "Categories          Conservative Christian Other affiliated Unaffiliated  \\\n",
      "Schools_Percent                   12.12779         10.27789     22.83188   \n",
      "Students_Percent                  12.70168         12.29891     13.95761   \n",
      "FTETeachers_Percent               11.98667         12.82442     13.83971   \n",
      "\n",
      "Categories          Nonsectarian   Regular  ...         d         e Northeast  \\\n",
      "Schools_Percent          33.6122  16.34787  ...   3.48916   2.74985  22.10053   \n",
      "Students_Percent        23.58202  16.12598  ...  13.84048  20.08278  21.11079   \n",
      "FTETeachers_Percent     32.25613   20.5298  ...  12.60931  16.90871  23.79668   \n",
      "\n",
      "Categories            Midwest     South      West      City  Suburban  \\\n",
      "Schools_Percent      23.14366  34.99546  19.76035  34.25473  38.27269   \n",
      "Students_Percent     22.84414  36.44455  19.60052  44.22631  39.09563   \n",
      "FTETeachers_Percent  20.22805  37.58159  18.39368  43.78973  39.08804   \n",
      "\n",
      "Categories              Town     Rural  \n",
      "Schools_Percent      8.11853  19.35406  \n",
      "Students_Percent     5.78256   10.8955  \n",
      "FTETeachers_Percent  5.65223     11.47  \n",
      "\n",
      "[3 rows x 35 columns]\n"
     ]
    }
   ],
   "source": [
    "# Calculating mean, mode, spread, and tails.\n",
    "# Columns a, b, c, d are listed in the histogram for \"Size\".\n",
    "print(f\"Mean: \\n {schools_data_new.mean()}\")\n",
    "print(f\"Mode: \\n {schools_data_new.mode()}\")\n",
    "print(f\"Spread: \\n {schools_data_new.std()}\")\n",
    "print(f\"Tails: \\n {schools_data_new.tail()}\")\n"
   ]
  },
  {
   "cell_type": "code",
   "execution_count": 230,
   "id": "1e7ae0f5",
   "metadata": {},
   "outputs": [
    {
     "data": {
      "text/plain": [
       "1.0"
      ]
     },
     "execution_count": 230,
     "metadata": {},
     "output_type": "execute_result"
    }
   ],
   "source": [
    "# Calculating PMF\n",
    "import thinkstats2\n",
    "pmf = thinkstats2.Pmf(schools_data_new.Suburban)\n",
    "pmf.Normalize()\n",
    "pmf2 = thinkstats2.Pmf(schools_data_new.Rural)\n",
    "pmf2.Normalize()"
   ]
  },
  {
   "cell_type": "code",
   "execution_count": 247,
   "id": "43d71ccd",
   "metadata": {
    "scrolled": true
   },
   "outputs": [
    {
     "data": {
      "image/png": "[encoded data removed]",
      "text/plain": [
       "<Figure size 432x288 with 1 Axes>"
      ]
     },
     "metadata": {
      "needs_background": "light"
     },
     "output_type": "display_data"
    }
   ],
   "source": [
    "# Plotting PMF of Suburban vs. Rural Schools\n",
    "thinkplot.Pmf(pmf, label = 'Suburban Schools')\n",
    "thinkplot.Pmf(pmf2, label = 'Rural Schools')\n",
    "thinkplot.Config(xlabel='Percentages', ylabel='Probability', axis=[10, 40, 0, 0.35])"
   ]
  },
  {
   "cell_type": "code",
   "execution_count": 292,
   "id": "bb9941fb",
   "metadata": {},
   "outputs": [
    {
     "name": "stdout",
     "output_type": "stream",
     "text": [
      "Schools_Percent        19.35406\n",
      "Students_Percent        10.8955\n",
      "FTETeachers_Percent       11.47\n",
      "Name: Rural, dtype: object\n"
     ]
    },
    {
     "data": {
      "image/png": "[encoded data removed]",
      "text/plain": [
       "<Figure size 432x288 with 1 Axes>"
      ]
     },
     "metadata": {
      "needs_background": "light"
     },
     "output_type": "display_data"
    },
    {
     "data": {
      "text/plain": [
       "<Figure size 576x432 with 0 Axes>"
      ]
     },
     "metadata": {},
     "output_type": "display_data"
    }
   ],
   "source": [
    "# Plotting the CDF of Rural Schools\n",
    "print(schools_data_new.Rural)\n",
    "cdf = thinkstats2.Cdf(schools_data_new.Rural, label='Rural Schools')\n",
    "thinkplot.Cdf(cdf)\n",
    "thinkplot.Show(xlabel='Percentage of Students, Teachers, or Schools', ylabel='CDF')"
   ]
  },
  {
   "cell_type": "code",
   "execution_count": 303,
   "id": "16771b17",
   "metadata": {},
   "outputs": [
    {
     "data": {
      "text/plain": [
       "<seaborn.axisgrid.FacetGrid at 0x7fe9f15f6580>"
      ]
     },
     "execution_count": 303,
     "metadata": {},
     "output_type": "execute_result"
    },
    {
     "data": {
      "image/png": "[encoded data removed]",
      "text/plain": [
       "<Figure size 540x360 with 1 Axes>"
      ]
     },
     "metadata": {
      "needs_background": "light"
     },
     "output_type": "display_data"
    }
   ],
   "source": [
    "# Testing which probability distribution is best for this data set.\n",
    "sns.displot(data=schools_data, x=\"FTETeachers_Percent\", kind=\"hist\", bins = 100, aspect = 1.5)"
   ]
  },
  {
   "cell_type": "code",
   "execution_count": 305,
   "id": "a116fefb",
   "metadata": {},
   "outputs": [],
   "source": [
    "# Putting data into 'Fitter' package.\n",
    "teachers = schools_data[\"FTETeachers_Percent\"].values"
   ]
  },
  {
   "cell_type": "code",
   "execution_count": 309,
   "id": "fbeb2735",
   "metadata": {},
   "outputs": [],
   "source": [
    "#pip install fitter\n",
    "import fitter\n",
    "from fitter import Fitter, get_common_distributions, get_distributions"
   ]
  },
  {
   "cell_type": "code",
   "execution_count": 313,
   "id": "a2a07605",
   "metadata": {},
   "outputs": [
    {
     "data": {
      "text/html": [
       "<div>\n",
       "<style scoped>\n",
       "    .dataframe tbody tr th:only-of-type {\n",
       "        vertical-align: middle;\n",
       "    }\n",
       "\n",
       "    .dataframe tbody tr th {\n",
       "        vertical-align: top;\n",
       "    }\n",
       "\n",
       "    .dataframe thead th {\n",
       "        text-align: right;\n",
       "    }\n",
       "</style>\n",
       "<table border=\"1\" class=\"dataframe\">\n",
       "  <thead>\n",
       "    <tr style=\"text-align: right;\">\n",
       "      <th></th>\n",
       "      <th>sumsquare_error</th>\n",
       "      <th>aic</th>\n",
       "      <th>bic</th>\n",
       "      <th>kl_div</th>\n",
       "      <th>ks_statistic</th>\n",
       "      <th>ks_pvalue</th>\n",
       "    </tr>\n",
       "  </thead>\n",
       "  <tbody>\n",
       "    <tr>\n",
       "      <th>lognorm</th>\n",
       "      <td>0.019339</td>\n",
       "      <td>1101.400214</td>\n",
       "      <td>-260.298252</td>\n",
       "      <td>inf</td>\n",
       "      <td>0.070220</td>\n",
       "      <td>0.988874</td>\n",
       "    </tr>\n",
       "    <tr>\n",
       "      <th>beta</th>\n",
       "      <td>0.019737</td>\n",
       "      <td>1077.913222</td>\n",
       "      <td>-255.982164</td>\n",
       "      <td>inf</td>\n",
       "      <td>0.097648</td>\n",
       "      <td>0.849538</td>\n",
       "    </tr>\n",
       "    <tr>\n",
       "      <th>norm</th>\n",
       "      <td>0.025122</td>\n",
       "      <td>1166.295664</td>\n",
       "      <td>-254.464582</td>\n",
       "      <td>inf</td>\n",
       "      <td>0.198855</td>\n",
       "      <td>0.100717</td>\n",
       "    </tr>\n",
       "    <tr>\n",
       "      <th>gamma</th>\n",
       "      <td>0.027779</td>\n",
       "      <td>1132.228817</td>\n",
       "      <td>-247.261054</td>\n",
       "      <td>inf</td>\n",
       "      <td>0.232870</td>\n",
       "      <td>0.033630</td>\n",
       "    </tr>\n",
       "  </tbody>\n",
       "</table>\n",
       "</div>"
      ],
      "text/plain": [
       "         sumsquare_error          aic         bic  kl_div  ks_statistic  \\\n",
       "lognorm         0.019339  1101.400214 -260.298252     inf      0.070220   \n",
       "beta            0.019737  1077.913222 -255.982164     inf      0.097648   \n",
       "norm            0.025122  1166.295664 -254.464582     inf      0.198855   \n",
       "gamma           0.027779  1132.228817 -247.261054     inf      0.232870   \n",
       "\n",
       "         ks_pvalue  \n",
       "lognorm   0.988874  \n",
       "beta      0.849538  \n",
       "norm      0.100717  \n",
       "gamma     0.033630  "
      ]
     },
     "execution_count": 313,
     "metadata": {},
     "output_type": "execute_result"
    },
    {
     "data": {
      "image/png": "[encoded data removed]",
      "text/plain": [
       "<Figure size 432x288 with 1 Axes>"
      ]
     },
     "metadata": {
      "needs_background": "light"
     },
     "output_type": "display_data"
    }
   ],
   "source": [
    "f = Fitter(teachers,\n",
    "           distributions=['gamma',\n",
    "                          'lognorm',\n",
    "                          \"beta\",\n",
    "                          \"norm\"])\n",
    "f.fit()\n",
    "\n",
    "f.summary()\n",
    "\n",
    "# After looking at my data, it looks like the Beta distribution may fit it best."
   ]
  },
  {
   "cell_type": "code",
   "execution_count": 318,
   "id": "916be1b4",
   "metadata": {},
   "outputs": [
    {
     "data": {
      "text/plain": [
       "{'lognorm': {'s': 0.8590680416050818,\n",
       "  'loc': -1.0310220257630265,\n",
       "  'scale': 16.408288773355743}}"
      ]
     },
     "execution_count": 318,
     "metadata": {},
     "output_type": "execute_result"
    }
   ],
   "source": [
    "f.get_best(method = 'sumsquare_error')\n",
    "# But, after viewing the get_best function, it looks as if lognorm is the best fit, based on sumsquare_error."
   ]
  },
  {
   "cell_type": "code",
   "execution_count": 322,
   "id": "6c8f9a82",
   "metadata": {},
   "outputs": [
    {
     "data": {
      "text/html": [
       "<div>\n",
       "<style scoped>\n",
       "    .dataframe tbody tr th:only-of-type {\n",
       "        vertical-align: middle;\n",
       "    }\n",
       "\n",
       "    .dataframe tbody tr th {\n",
       "        vertical-align: top;\n",
       "    }\n",
       "\n",
       "    .dataframe thead th {\n",
       "        text-align: right;\n",
       "    }\n",
       "</style>\n",
       "<table border=\"1\" class=\"dataframe\">\n",
       "  <thead>\n",
       "    <tr style=\"text-align: right;\">\n",
       "      <th></th>\n",
       "      <th>sumsquare_error</th>\n",
       "      <th>aic</th>\n",
       "      <th>bic</th>\n",
       "      <th>kl_div</th>\n",
       "      <th>ks_statistic</th>\n",
       "      <th>ks_pvalue</th>\n",
       "    </tr>\n",
       "  </thead>\n",
       "  <tbody>\n",
       "    <tr>\n",
       "      <th>lognorm</th>\n",
       "      <td>0.019339</td>\n",
       "      <td>1101.400214</td>\n",
       "      <td>-260.298252</td>\n",
       "      <td>inf</td>\n",
       "      <td>0.07022</td>\n",
       "      <td>0.988874</td>\n",
       "    </tr>\n",
       "  </tbody>\n",
       "</table>\n",
       "</div>"
      ],
      "text/plain": [
       "         sumsquare_error          aic         bic  kl_div  ks_statistic  \\\n",
       "lognorm         0.019339  1101.400214 -260.298252     inf       0.07022   \n",
       "\n",
       "         ks_pvalue  \n",
       "lognorm   0.988874  "
      ]
     },
     "execution_count": 322,
     "metadata": {},
     "output_type": "execute_result"
    },
    {
     "data": {
      "image/png": "[encoded data removed]",
      "text/plain": [
       "<Figure size 432x288 with 1 Axes>"
      ]
     },
     "metadata": {
      "needs_background": "light"
     },
     "output_type": "display_data"
    }
   ],
   "source": [
    "f2 = Fitter(teachers, distributions=['lognorm'])\n",
    "f2.fit()\n",
    "f2.summary()"
   ]
  },
  {
   "cell_type": "code",
   "execution_count": 335,
   "id": "e03ebe94",
   "metadata": {},
   "outputs": [
    {
     "data": {
      "text/plain": [
       "Text(0, 0.5, 'Number of Students (Hundred Thousands)')"
      ]
     },
     "execution_count": 335,
     "metadata": {},
     "output_type": "execute_result"
    },
    {
     "data": {
      "image/png": "[encoded data removed]",
      "text/plain": [
       "<Figure size 432x288 with 1 Axes>"
      ]
     },
     "metadata": {
      "needs_background": "light"
     },
     "output_type": "display_data"
    }
   ],
   "source": [
    "# Creating 2 scatterplots of 2 variables.\n",
    "import matplotlib.pyplot as plt \n",
    "\n",
    "schools_data.head()\n",
    "plot1 = schools_data.drop(labels = [0], axis = 0)\n",
    "plot1.head()\n",
    "\n",
    "plot1.plot.scatter(x = 'FTETeachers_Number', y = 'Students_Number', title = \"Number of Teachers vs. Students\")\n",
    "plt.xlabel('Number of Teachers (Hundred Thousands)')\n",
    "plt.ylabel('Number of Students (Hundred Thousands)')"
   ]
  },
  {
   "cell_type": "code",
   "execution_count": 351,
   "id": "d1dc20e4",
   "metadata": {},
   "outputs": [
    {
     "data": {
      "text/plain": [
       "103231895791.53046"
      ]
     },
     "execution_count": 351,
     "metadata": {},
     "output_type": "execute_result"
    }
   ],
   "source": [
    "# Running correlation and covariance tests.\n",
    "# Correlation first.\n",
    "import scipy\n",
    "import scipy.stats\n",
    "teachers = schools_data.FTETeachers_Number\n",
    "students = schools_data.Students_Number\n",
    "\n",
    "scipy.stats.pearsonr(teachers, students) # coeff 0.99\n",
    "scipy.stats.spearmanr(teachers, students) # coeff 0.979, p-value basically 0\n",
    "scipy.stats.kendalltau(teachers, students) # coeff 0.89, p-value 1.56\n",
    "\n",
    "# Calculating covariance\n",
    "teachers.cov(students) # Positive covariance."
   ]
  },
  {
   "cell_type": "code",
   "execution_count": 352,
   "id": "31ad3dad",
   "metadata": {},
   "outputs": [
    {
     "data": {
      "text/plain": [
       "SpearmanrResult(correlation=0.9791505791505792, pvalue=4.039974527620092e-25)"
      ]
     },
     "execution_count": 352,
     "metadata": {},
     "output_type": "execute_result"
    }
   ],
   "source": [
    "# Calculated the p-value in the previous code chunk.\n",
    "scipy.stats.spearmanr(teachers, students)"
   ]
  },
  {
   "cell_type": "code",
   "execution_count": 353,
   "id": "191ee918",
   "metadata": {},
   "outputs": [],
   "source": [
    "# Linear Regression Analysis\n",
    "import statsmodels.api as sm"
   ]
  },
  {
   "cell_type": "code",
   "execution_count": 355,
   "id": "8312c248",
   "metadata": {
    "scrolled": false
   },
   "outputs": [
    {
     "data": {
      "text/html": [
       "<table class=\"simpletable\">\n",
       "<caption>OLS Regression Results</caption>\n",
       "<tr>\n",
       "  <th>Dep. Variable:</th>    <td>FTETeachers_Number</td> <th>  R-squared (uncentered):</th>      <td>   0.991</td>\n",
       "</tr>\n",
       "<tr>\n",
       "  <th>Model:</th>                    <td>OLS</td>        <th>  Adj. R-squared (uncentered):</th> <td>   0.991</td>\n",
       "</tr>\n",
       "<tr>\n",
       "  <th>Method:</th>              <td>Least Squares</td>   <th>  F-statistic:       </th>          <td>   3830.</td>\n",
       "</tr>\n",
       "<tr>\n",
       "  <th>Date:</th>              <td>Fri, 12 Aug 2022</td>  <th>  Prob (F-statistic):</th>          <td>2.38e-37</td>\n",
       "</tr>\n",
       "<tr>\n",
       "  <th>Time:</th>                  <td>21:57:15</td>      <th>  Log-Likelihood:    </th>          <td> -394.72</td>\n",
       "</tr>\n",
       "<tr>\n",
       "  <th>No. Observations:</th>       <td>    36</td>       <th>  AIC:               </th>          <td>   791.4</td>\n",
       "</tr>\n",
       "<tr>\n",
       "  <th>Df Residuals:</th>           <td>    35</td>       <th>  BIC:               </th>          <td>   793.0</td>\n",
       "</tr>\n",
       "<tr>\n",
       "  <th>Df Model:</th>               <td>     1</td>       <th>                     </th>              <td> </td>   \n",
       "</tr>\n",
       "<tr>\n",
       "  <th>Covariance Type:</th>       <td>nonrobust</td>     <th>                     </th>              <td> </td>   \n",
       "</tr>\n",
       "</table>\n",
       "<table class=\"simpletable\">\n",
       "<tr>\n",
       "         <td></td>            <th>coef</th>     <th>std err</th>      <th>t</th>      <th>P>|t|</th>  <th>[0.025</th>    <th>0.975]</th>  \n",
       "</tr>\n",
       "<tr>\n",
       "  <th>Students_Number</th> <td>    0.1014</td> <td>    0.002</td> <td>   61.883</td> <td> 0.000</td> <td>    0.098</td> <td>    0.105</td>\n",
       "</tr>\n",
       "</table>\n",
       "<table class=\"simpletable\">\n",
       "<tr>\n",
       "  <th>Omnibus:</th>       <td> 4.844</td> <th>  Durbin-Watson:     </th> <td>   1.606</td>\n",
       "</tr>\n",
       "<tr>\n",
       "  <th>Prob(Omnibus):</th> <td> 0.089</td> <th>  Jarque-Bera (JB):  </th> <td>   4.986</td>\n",
       "</tr>\n",
       "<tr>\n",
       "  <th>Skew:</th>          <td> 0.170</td> <th>  Prob(JB):          </th> <td>  0.0826</td>\n",
       "</tr>\n",
       "<tr>\n",
       "  <th>Kurtosis:</th>      <td> 4.791</td> <th>  Cond. No.          </th> <td>    1.00</td>\n",
       "</tr>\n",
       "</table><br/><br/>Notes:<br/>[1] R² is computed without centering (uncentered) since the model does not contain a constant.<br/>[2] Standard Errors assume that the covariance matrix of the errors is correctly specified."
      ],
      "text/plain": [
       "<class 'statsmodels.iolib.summary.Summary'>\n",
       "\"\"\"\n",
       "                                 OLS Regression Results                                \n",
       "=======================================================================================\n",
       "Dep. Variable:     FTETeachers_Number   R-squared (uncentered):                   0.991\n",
       "Model:                            OLS   Adj. R-squared (uncentered):              0.991\n",
       "Method:                 Least Squares   F-statistic:                              3830.\n",
       "Date:                Fri, 12 Aug 2022   Prob (F-statistic):                    2.38e-37\n",
       "Time:                        21:57:15   Log-Likelihood:                         -394.72\n",
       "No. Observations:                  36   AIC:                                      791.4\n",
       "Df Residuals:                      35   BIC:                                      793.0\n",
       "Df Model:                           1                                                  \n",
       "Covariance Type:            nonrobust                                                  \n",
       "===================================================================================\n",
       "                      coef    std err          t      P>|t|      [0.025      0.975]\n",
       "-----------------------------------------------------------------------------------\n",
       "Students_Number     0.1014      0.002     61.883      0.000       0.098       0.105\n",
       "==============================================================================\n",
       "Omnibus:                        4.844   Durbin-Watson:                   1.606\n",
       "Prob(Omnibus):                  0.089   Jarque-Bera (JB):                4.986\n",
       "Skew:                           0.170   Prob(JB):                       0.0826\n",
       "Kurtosis:                       4.791   Cond. No.                         1.00\n",
       "==============================================================================\n",
       "\n",
       "Notes:\n",
       "[1] R² is computed without centering (uncentered) since the model does not contain a constant.\n",
       "[2] Standard Errors assume that the covariance matrix of the errors is correctly specified.\n",
       "\"\"\""
      ]
     },
     "execution_count": 355,
     "metadata": {},
     "output_type": "execute_result"
    }
   ],
   "source": [
    "model = sm.OLS(teachers, students).fit()\n",
    "predictions = model.predict(students)\n",
    "\n",
    "model.summary()"
   ]
  },
  {
   "cell_type": "code",
   "execution_count": null,
   "id": "761cd527",
   "metadata": {},
   "outputs": [],
   "source": []
  }
 ],
 "metadata": {
  "kernelspec": {
   "display_name": "Python 3 (ipykernel)",
   "language": "python",
   "name": "python3"
  },
  "language_info": {
   "codemirror_mode": {
    "name": "ipython",
    "version": 3
   },
   "file_extension": ".py",
   "mimetype": "text/x-python",
   "name": "python",
   "nbconvert_exporter": "python",
   "pygments_lexer": "ipython3",
   "version": "3.9.12"
  }
 },
 "nbformat": 4,
 "nbformat_minor": 5
}
